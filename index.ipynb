{
 "cells": [
  {
   "cell_type": "code",
   "execution_count": null,
   "metadata": {},
   "outputs": [],
   "source": [
    "import pandas as pd\n",
    "import numpy as np\n",
    "\n",
    "# Read the first Excel file into a DataFrame\n",
    "file1_path = 'data_all.xlsx'\n",
    "df1 = pd.read_excel(file1_path)\n",
    "\n",
    "# Read the second Excel file into another DataFrame\n",
    "file2_path = 'std_deleted.xlsx'\n",
    "df2 = pd.read_excel(file2_path)"
   ]
  },
  {
   "cell_type": "code",
   "execution_count": null,
   "metadata": {},
   "outputs": [],
   "source": [
    "df_all = df1\n",
    "df_all"
   ]
  },
  {
   "cell_type": "code",
   "execution_count": null,
   "metadata": {},
   "outputs": [],
   "source": [
    "\n",
    "df_dell = pd.DataFrame(df2)\n",
    "df_dell.info()\n",
    "df_dell['sđt'] = df_dell['sđt'].str.replace(r\"'0\", \"\")\n",
    "df_dell = df_dell.groupby('sđt').first().reset_index()\n",
    "df_dell\n"
   ]
  },
  {
   "cell_type": "code",
   "execution_count": null,
   "metadata": {},
   "outputs": [],
   "source": [
    "# Create an empty DataFrame to store the filtered values from df1\n",
    "filtered_df1 = []\n",
    "# Iterate through df1 and check if each value is present in df2\n",
    "for index, row in df_all.iterrows():\n",
    "    if str(row[0]) not in df_dell['sđt'].values:\n",
    "        print(row[0])\n",
    "        print(df_dell['sđt'])\n",
    "        item = {\n",
    "            'Phone': str(row[0]),\n",
    "            'Point': row[1],\n",
    "        }\n",
    "        filtered_df1.append(item)\n",
    "\n",
    "# # Reset the index of filtered_df1\n",
    "# filtered_df1.reset_index(drop=True, inplace=True)\n",
    "# filtered_df1"
   ]
  },
  {
   "cell_type": "code",
   "execution_count": null,
   "metadata": {},
   "outputs": [],
   "source": [
    "result_df = pd.DataFrame(filtered_df1, columns=['Phone', 'Point'])\n",
    "# result_df['Phone'].apply(lambda x: x.zfill(10))\n",
    "grouped_df = result_df.groupby('Phone')['Point'].sum().reset_index()\n",
    "grouped_df = grouped_df.sort_values(by=\"Point\", ascending=False)\n",
    "grouped_df['Phone'] = grouped_df['Phone'].apply(lambda x: x.zfill(10))\n",
    "grouped_df"
   ]
  },
  {
   "cell_type": "code",
   "execution_count": null,
   "metadata": {},
   "outputs": [],
   "source": [
    "result_df.to_excel('filtered_phone_numbers.xlsx', index=False)"
   ]
  }
 ],
 "metadata": {
  "kernelspec": {
   "display_name": "Python 3",
   "language": "python",
   "name": "python3"
  },
  "language_info": {
   "codemirror_mode": {
    "name": "ipython",
    "version": 3
   },
   "file_extension": ".py",
   "mimetype": "text/x-python",
   "name": "python",
   "nbconvert_exporter": "python",
   "pygments_lexer": "ipython3",
   "version": "3.11.4"
  },
  "orig_nbformat": 4
 },
 "nbformat": 4,
 "nbformat_minor": 2
}
